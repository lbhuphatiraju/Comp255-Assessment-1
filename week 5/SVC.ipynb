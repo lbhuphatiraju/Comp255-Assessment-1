{
 "cells": [
  {
   "cell_type": "code",
   "execution_count": 1,
   "metadata": {},
   "outputs": [
    {
     "name": "stdout",
     "output_type": "stream",
     "text": [
      "training input done \n",
      "testing input done\n",
      "feature normlization done\n",
      "best clf: SVC(C=100, cache_size=200, class_weight=None, coef0=0.0,\n",
      "  decision_function_shape='ovr', degree=3, gamma=0.01, kernel='rbf',\n",
      "  max_iter=-1, probability=False, random_state=None, shrinking=True,\n",
      "  tol=0.001, verbose=False)\n",
      "Accuracy:  0.710172744721689\n",
      "[[ 35   3   0   0   0   0   0   0   0   0  16   3   0]\n",
      " [  6  51   0   0   0   0   0   0   0   0   0   0   0]\n",
      " [  0   3  48   1   1   0   2   0   0   0   1   1   0]\n",
      " [  2   0   2  84   6   3   1   0   0   0   0   1   0]\n",
      " [  0   0   5   5  36   6   4   0   0   0   0   1   0]\n",
      " [  0   1   3   7  27  35   9   0   1   0   0   2   0]\n",
      " [  0   0   3   5   1   8 202   0   0   0   0   0   0]\n",
      " [  0   0   1   0   0   1  37   0   0   0   0   0   0]\n",
      " [  0   0   2   2   0   2  18   0  13   0   1   0   0]\n",
      " [  0   0   0   0   0   0   0   0   0  96   0   0   0]\n",
      " [  3   0   0   2   0   9   2   0   0   0  70  14   0]\n",
      " [  0   0   0   2   0   0   0   0   0   0  64  34   0]\n",
      " [  0   0   1   0   0   1   0   0   0   0   0   0  36]]\n"
     ]
    }
   ],
   "source": [
    "# import packages\n",
    "import numpy as np\n",
    "import pandas as pd\n",
    "import math\n",
    "import matplotlib.pyplot as plt\n",
    "from scipy import signal\n",
    "from sklearn import preprocessing\n",
    "from sklearn.neighbors import KNeighborsClassifier\n",
    "from sklearn.metrics import make_scorer, accuracy_score, confusion_matrix\n",
    "from sklearn.svm import SVC\n",
    "from sklearn.model_selection import GridSearchCV\n",
    "\n",
    "\n",
    "df_training = pd.read_csv('training_data.csv', header=None)\n",
    "df_testing = pd.read_csv('testing_data.csv', header=None)\n",
    "\n",
    "y_train = df_training[df_training.shape[1] - 1].values\n",
    "    # Labels should start from 0 in sklearn\n",
    "y_train = y_train - 1\n",
    "\n",
    "\n",
    "y_train = y_train.astype(int)\n",
    "df_training = df_training.drop([df_training.shape[1] - 1], axis=1)\n",
    "X_train = df_training.values\n",
    "print (\"training input done \")\n",
    "y_test = df_testing[df_testing.shape[1] - 1].values\n",
    "y_test = y_test - 1\n",
    "y_test = y_test.astype(int)\n",
    "\n",
    "\n",
    "df_testing = df_testing.drop([df_testing.shape[1] - 1], axis=1)\n",
    "X_test = df_testing.values\n",
    "    \n",
    "print (\"testing input done\")\n",
    "\n",
    "# Feature normalization for improving the performance of machine learning models. In this example code, \n",
    "    # StandardScaler is used to scale original feature to be centered around zero. You could try other normalization methods.\n",
    "scaler = preprocessing.StandardScaler().fit(X_train)\n",
    "X_train = scaler.transform(X_train)\n",
    "X_test = scaler.transform(X_test)\n",
    "\n",
    "print (\"feature normlization done\")\n",
    "\n",
    "\n",
    "tuned_parameters = [{'kernel': ['rbf'], 'gamma': [1e-1,1e-2, 1e-3, 1e-4],\n",
    "                 'C': [1e-3, 1e-2, 1e-1, 1, 10, 100, 100]},\n",
    "                {'kernel': ['linear'], 'C': [1e-3, 1e-2, 1e-1, 1, 10, 100]}]\n",
    "acc_scorer = make_scorer(accuracy_score)\n",
    "grid_obj  = GridSearchCV(SVC(), tuned_parameters, cv=10, scoring=acc_scorer)\n",
    "grid_obj  = grid_obj .fit(X_train, y_train)\n",
    "clf = grid_obj.best_estimator_\n",
    "print('best clf:', clf)\n",
    "clf.fit(X_train, y_train)\n",
    "y_pred = clf.predict(X_test)\n",
    "print('Accuracy: ', accuracy_score(y_test, y_pred))\n",
    "print(confusion_matrix(y_test, y_pred))"
   ]
  },
  {
   "cell_type": "code",
   "execution_count": null,
   "metadata": {},
   "outputs": [],
   "source": []
  },
  {
   "cell_type": "code",
   "execution_count": null,
   "metadata": {},
   "outputs": [],
   "source": []
  },
  {
   "cell_type": "code",
   "execution_count": null,
   "metadata": {},
   "outputs": [],
   "source": []
  }
 ],
 "metadata": {
  "kernelspec": {
   "display_name": "Python 3",
   "language": "python",
   "name": "python3"
  },
  "language_info": {
   "codemirror_mode": {
    "name": "ipython",
    "version": 3
   },
   "file_extension": ".py",
   "mimetype": "text/x-python",
   "name": "python",
   "nbconvert_exporter": "python",
   "pygments_lexer": "ipython3",
   "version": "3.7.3"
  }
 },
 "nbformat": 4,
 "nbformat_minor": 2
}
