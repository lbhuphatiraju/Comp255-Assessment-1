{
 "cells": [
  {
   "cell_type": "markdown",
   "metadata": {},
   "source": [
    "# Comp255 - Assessment 1 (45431957)"
   ]
  },
  {
   "cell_type": "code",
   "execution_count": 35,
   "metadata": {},
   "outputs": [],
   "source": [
    "# import packages\n",
    "import numpy as np \n",
    "import pandas as pd \n",
    "from scipy import signal\n",
    "import matplotlib.pyplot as plt \n",
    "import math\n",
    "from sklearn import preprocessing\n",
    "from sklearn.neighbors import KNeighborsClassifier\n",
    "from sklearn.metrics import make_scorer, accuracy_score, confusion_matrix\n",
    "from sklearn.svm import SVC\n",
    "from sklearn.model_selection import GridSearchCV"
   ]
  },
  {
   "cell_type": "markdown",
   "metadata": {},
   "source": [
    "1) Load Dataset:\n",
    "2) Visualise Dataset:\n",
    "\n",
    "'''\n",
    "At first, we should explore the raw time-series sensor data. We could draw line plot of sensor signals.\n",
    "In this example code, the wrist sensor accelerometer data dataset_1 sitting activity is visualized.   \n",
    "'''"
   ]
  },
  {
   "cell_type": "code",
   "execution_count": 36,
   "metadata": {},
   "outputs": [
    {
     "name": "stdout",
     "output_type": "stream",
     "text": [
      "The dataset contains 245576 rows.\n"
     ]
    },
    {
     "data": {
      "text/html": [
       "<div>\n",
       "<style scoped>\n",
       "    .dataframe tbody tr th:only-of-type {\n",
       "        vertical-align: middle;\n",
       "    }\n",
       "\n",
       "    .dataframe tbody tr th {\n",
       "        vertical-align: top;\n",
       "    }\n",
       "\n",
       "    .dataframe thead th {\n",
       "        text-align: right;\n",
       "    }\n",
       "</style>\n",
       "<table border=\"1\" class=\"dataframe\">\n",
       "  <thead>\n",
       "    <tr style=\"text-align: right;\">\n",
       "      <th></th>\n",
       "      <th>0</th>\n",
       "      <th>1</th>\n",
       "      <th>2</th>\n",
       "      <th>3</th>\n",
       "      <th>4</th>\n",
       "      <th>5</th>\n",
       "      <th>6</th>\n",
       "      <th>7</th>\n",
       "      <th>8</th>\n",
       "      <th>9</th>\n",
       "      <th>...</th>\n",
       "      <th>15</th>\n",
       "      <th>16</th>\n",
       "      <th>17</th>\n",
       "      <th>18</th>\n",
       "      <th>19</th>\n",
       "      <th>20</th>\n",
       "      <th>21</th>\n",
       "      <th>22</th>\n",
       "      <th>23</th>\n",
       "      <th>24</th>\n",
       "    </tr>\n",
       "  </thead>\n",
       "  <tbody>\n",
       "    <tr>\n",
       "      <th>0</th>\n",
       "      <td>0.092478</td>\n",
       "      <td>0.14400</td>\n",
       "      <td>-0.009739</td>\n",
       "      <td>231.24</td>\n",
       "      <td>42.410</td>\n",
       "      <td>181.19</td>\n",
       "      <td>-0.13840</td>\n",
       "      <td>-0.85828</td>\n",
       "      <td>0.101680</td>\n",
       "      <td>32.813</td>\n",
       "      <td>...</td>\n",
       "      <td>-6.607700</td>\n",
       "      <td>-15.092</td>\n",
       "      <td>38.214</td>\n",
       "      <td>-0.90671</td>\n",
       "      <td>-0.43698</td>\n",
       "      <td>-0.52616</td>\n",
       "      <td>-91.394</td>\n",
       "      <td>33.158</td>\n",
       "      <td>4.2875</td>\n",
       "      <td>1</td>\n",
       "    </tr>\n",
       "    <tr>\n",
       "      <th>1</th>\n",
       "      <td>0.057310</td>\n",
       "      <td>0.16003</td>\n",
       "      <td>-0.009739</td>\n",
       "      <td>238.56</td>\n",
       "      <td>51.564</td>\n",
       "      <td>174.59</td>\n",
       "      <td>-0.15410</td>\n",
       "      <td>-0.86636</td>\n",
       "      <td>0.069517</td>\n",
       "      <td>46.727</td>\n",
       "      <td>...</td>\n",
       "      <td>-5.143100</td>\n",
       "      <td>-18.021</td>\n",
       "      <td>37.482</td>\n",
       "      <td>-0.94272</td>\n",
       "      <td>-0.32132</td>\n",
       "      <td>-0.49881</td>\n",
       "      <td>-82.606</td>\n",
       "      <td>36.087</td>\n",
       "      <td>-1.5711</td>\n",
       "      <td>1</td>\n",
       "    </tr>\n",
       "    <tr>\n",
       "      <th>2</th>\n",
       "      <td>0.022143</td>\n",
       "      <td>0.18408</td>\n",
       "      <td>-0.038329</td>\n",
       "      <td>243.69</td>\n",
       "      <td>59.620</td>\n",
       "      <td>166.17</td>\n",
       "      <td>-0.15410</td>\n",
       "      <td>-0.89867</td>\n",
       "      <td>0.053434</td>\n",
       "      <td>57.346</td>\n",
       "      <td>...</td>\n",
       "      <td>-3.678400</td>\n",
       "      <td>-20.584</td>\n",
       "      <td>37.116</td>\n",
       "      <td>-0.92271</td>\n",
       "      <td>-0.21722</td>\n",
       "      <td>-0.46756</td>\n",
       "      <td>-75.283</td>\n",
       "      <td>37.552</td>\n",
       "      <td>-5.9651</td>\n",
       "      <td>1</td>\n",
       "    </tr>\n",
       "    <tr>\n",
       "      <th>3</th>\n",
       "      <td>-0.001302</td>\n",
       "      <td>0.20412</td>\n",
       "      <td>-0.030160</td>\n",
       "      <td>246.62</td>\n",
       "      <td>65.112</td>\n",
       "      <td>156.29</td>\n",
       "      <td>-0.16981</td>\n",
       "      <td>-0.90675</td>\n",
       "      <td>0.049414</td>\n",
       "      <td>65.768</td>\n",
       "      <td>...</td>\n",
       "      <td>-0.749080</td>\n",
       "      <td>-23.514</td>\n",
       "      <td>35.285</td>\n",
       "      <td>-0.89070</td>\n",
       "      <td>-0.13626</td>\n",
       "      <td>-0.45193</td>\n",
       "      <td>-69.424</td>\n",
       "      <td>37.552</td>\n",
       "      <td>-8.8945</td>\n",
       "      <td>1</td>\n",
       "    </tr>\n",
       "    <tr>\n",
       "      <th>4</th>\n",
       "      <td>-0.032562</td>\n",
       "      <td>0.20813</td>\n",
       "      <td>-0.026076</td>\n",
       "      <td>250.64</td>\n",
       "      <td>70.605</td>\n",
       "      <td>145.30</td>\n",
       "      <td>-0.16981</td>\n",
       "      <td>-0.90675</td>\n",
       "      <td>0.081579</td>\n",
       "      <td>69.063</td>\n",
       "      <td>...</td>\n",
       "      <td>-0.016749</td>\n",
       "      <td>-24.246</td>\n",
       "      <td>33.088</td>\n",
       "      <td>-0.89870</td>\n",
       "      <td>-0.10927</td>\n",
       "      <td>-0.48709</td>\n",
       "      <td>-63.566</td>\n",
       "      <td>39.017</td>\n",
       "      <td>-10.3590</td>\n",
       "      <td>1</td>\n",
       "    </tr>\n",
       "  </tbody>\n",
       "</table>\n",
       "<p>5 rows × 25 columns</p>\n",
       "</div>"
      ],
      "text/plain": [
       "         0        1         2       3       4       5        6        7   \\\n",
       "0  0.092478  0.14400 -0.009739  231.24  42.410  181.19 -0.13840 -0.85828   \n",
       "1  0.057310  0.16003 -0.009739  238.56  51.564  174.59 -0.15410 -0.86636   \n",
       "2  0.022143  0.18408 -0.038329  243.69  59.620  166.17 -0.15410 -0.89867   \n",
       "3 -0.001302  0.20412 -0.030160  246.62  65.112  156.29 -0.16981 -0.90675   \n",
       "4 -0.032562  0.20813 -0.026076  250.64  70.605  145.30 -0.16981 -0.90675   \n",
       "\n",
       "         8       9   ...        15      16      17       18       19       20  \\\n",
       "0  0.101680  32.813  ... -6.607700 -15.092  38.214 -0.90671 -0.43698 -0.52616   \n",
       "1  0.069517  46.727  ... -5.143100 -18.021  37.482 -0.94272 -0.32132 -0.49881   \n",
       "2  0.053434  57.346  ... -3.678400 -20.584  37.116 -0.92271 -0.21722 -0.46756   \n",
       "3  0.049414  65.768  ... -0.749080 -23.514  35.285 -0.89070 -0.13626 -0.45193   \n",
       "4  0.081579  69.063  ... -0.016749 -24.246  33.088 -0.89870 -0.10927 -0.48709   \n",
       "\n",
       "       21      22       23  24  \n",
       "0 -91.394  33.158   4.2875   1  \n",
       "1 -82.606  36.087  -1.5711   1  \n",
       "2 -75.283  37.552  -5.9651   1  \n",
       "3 -69.424  37.552  -8.8945   1  \n",
       "4 -63.566  39.017 -10.3590   1  \n",
       "\n",
       "[5 rows x 25 columns]"
      ]
     },
     "execution_count": 36,
     "metadata": {},
     "output_type": "execute_result"
    }
   ],
   "source": [
    "# 1) read/load dataset file\n",
    "\n",
    "df = pd.read_csv('dataset/dataset_1.txt', sep=',', header=None)\n",
    "print('The dataset contains %d rows.' % len(df)) \n",
    "df.head()\n"
   ]
  },
  {
   "cell_type": "code",
   "execution_count": 37,
   "metadata": {},
   "outputs": [
    {
     "data": {
      "image/png": "[encoded data removed]",
      "text/plain": [
       "<Figure size 432x288 with 1 Axes>"
      ]
     },
     "metadata": {
      "needs_background": "light"
     },
     "output_type": "display_data"
    }
   ],
   "source": [
    "#2) Visualising\n",
    "\n",
    "df_sitting = df[df[24] == 1].values\n",
    "# In this example code, only accelerometer 1 data (column 1 to 3) is used\n",
    "plt.plot(df_sitting[:, 0:3])\n",
    "plt.show()\n"
   ]
  },
  {
   "cell_type": "markdown",
   "metadata": {},
   "source": [
    "3) Remove signal noises\n",
    "\n",
    "'''\n",
    "For raw sensor data, it usually contains noise that arises from different sources, such as sensor mis-\n",
    "calibration, sensor errors, errors in sensor placement, or noisy environments. We could apply filter to remove noise of sensor data\n",
    "to smooth data. In this example code, Butterworth low-pass filter is applied. \n",
    "'''"
   ]
  },
  {
   "cell_type": "code",
   "execution_count": 46,
   "metadata": {},
   "outputs": [
    {
     "data": {
      "image/png": "[encoded data removed]",
      "text/plain": [
       "<Figure size 432x288 with 1 Axes>"
      ]
     },
     "metadata": {
      "needs_background": "light"
     },
     "output_type": "display_data"
    }
   ],
   "source": [
    "# def noise_removing():\n",
    "df = pd.read_csv('dataset/dataset_1.txt', sep=',', header=None)\n",
    "    # Butterworth low-pass filter. You could try different parameters and other filters. \n",
    "b, a = signal.butter(4, 0.04, 'lowpass', analog=False)\n",
    "df_sitting = df[df[24] == 1].values\n",
    "for i in range(3):\n",
    "    df_sitting[:,i] = signal.lfilter(b, a, df_sitting[:, i])\n",
    "plt.plot(df_sitting[500:1500, 0:3])\n",
    "plt.show()"
   ]
  },
  {
   "cell_type": "markdown",
   "metadata": {},
   "source": [
    "4) Extract features\n",
    "\n",
    "'''\n",
    "To build a human activity recognition system, we need to extract features from raw data and create feature dataset for training machine learning models.\n",
    "'''"
   ]
  },
  {
   "cell_type": "code",
   "execution_count": 47,
   "metadata": {},
   "outputs": [
    {
     "name": "stdout",
     "output_type": "stream",
     "text": [
      "deal with dataset 1\n",
      "deal with dataset 2\n",
      "deal with dataset 3\n",
      "deal with dataset 4\n",
      "deal with dataset 5\n",
      "deal with dataset 6\n",
      "deal with dataset 7\n",
      "deal with dataset 8\n",
      "deal with dataset 9\n",
      "deal with dataset 10\n",
      "deal with dataset 11\n",
      "deal with dataset 12\n",
      "deal with dataset 13\n",
      "deal with dataset 14\n",
      "deal with dataset 15\n",
      "deal with dataset 16\n",
      "deal with dataset 17\n",
      "deal with dataset 18\n",
      "deal with dataset 19\n"
     ]
    }
   ],
   "source": [
    "#def feature_engineering_example():\n",
    "training = np.empty(shape=(0, 10))\n",
    "testing = np.empty(shape=(0, 10))\n",
    "# deal with each dataset file\n",
    "for i in range(19):\n",
    "    df = pd.read_csv('dataset/dataset_' + str(i + 1) + '.txt', sep=',', header=None)\n",
    "    print('deal with dataset ' + str(i + 1))\n",
    "    for c in range(1, 14):\n",
    "        activity_data = df[df[24] == c].values\n",
    "        b, a = signal.butter(4, 0.04, 'low', analog=False)\n",
    "        for j in range(24):\n",
    "            activity_data[:, j] = signal.lfilter(b, a, activity_data[:, j])\n",
    "            \n",
    "        datat_len = len(activity_data)\n",
    "        training_len = math.floor(datat_len * 0.8)\n",
    "        training_data = activity_data[:training_len, :]\n",
    "        testing_data = activity_data[training_len:, :]\n",
    "\n",
    "        # data segementation: for time series data, we need to segment the whole time series, and then extract features from each period of time\n",
    "        # to represent the raw data. In this example code, we define each period of time contains 1000 data points. Each period of time contains \n",
    "        # different data points. You may consider overlap segmentation, which means consecutive two segmentation share a part of data points, to \n",
    "        # get more feature samples.\n",
    "        training_sample_number = training_len // 1000 + 1\n",
    "        testing_sample_number = (datat_len - training_len) // 1000 + 1\n",
    "\n",
    "        for s in range(training_sample_number):\n",
    "            if s < training_sample_number - 1:\n",
    "                sample_data = training_data[1000*s:1000*(s + 1), :]\n",
    "            else:\n",
    "                sample_data = training_data[1000*s:, :]\n",
    "            # in this example code, only three accelerometer data in wrist sensor is used to extract three simple features: min, max, and mean value in\n",
    "            # a period of time. Finally we get 9 features and 1 label to construct feature dataset. You may consider all sensors' data and extract more\n",
    "\n",
    "            feature_sample = []\n",
    "            for i in range(3):\n",
    "                feature_sample.append(np.min(sample_data[:, i]))\n",
    "                feature_sample.append(np.max(sample_data[:, i]))\n",
    "                feature_sample.append(np.mean(sample_data[:, i]))\n",
    "            feature_sample.append(sample_data[0, -1])\n",
    "            feature_sample = np.array([feature_sample])\n",
    "            training = np.concatenate((training, feature_sample), axis=0)\n",
    "            \n",
    "        for s in range(testing_sample_number):\n",
    "            if s < training_sample_number - 1:\n",
    "                sample_data = testing_data[1000*s:1000*(s + 1), :]\n",
    "            else:\n",
    "                sample_data = testing_data[1000*s:, :]\n",
    "\n",
    "            feature_sample = []\n",
    "            for i in range(3):\n",
    "                feature_sample.append(np.min(sample_data[:, i]))\n",
    "                feature_sample.append(np.max(sample_data[:, i]))\n",
    "                feature_sample.append(np.mean(sample_data[:, i]))\n",
    "            feature_sample.append(sample_data[0, -1])\n",
    "            feature_sample = np.array([feature_sample])\n",
    "            testing = np.concatenate((testing, feature_sample), axis=0)\n",
    "\n",
    "df_training = pd.DataFrame(training)\n",
    "df_testing = pd.DataFrame(testing)\n",
    "df_training.to_csv('training_data.csv', index=None, header=None)\n",
    "df_testing.to_csv('testing_data.csv', index=None, header=None)"
   ]
  },
  {
   "cell_type": "code",
   "execution_count": 54,
   "metadata": {},
   "outputs": [],
   "source": []
  },
  {
   "cell_type": "code",
   "execution_count": 55,
   "metadata": {},
   "outputs": [
    {
     "name": "stdout",
     "output_type": "stream",
     "text": [
      "The dataset contains 245576 rows.\n"
     ]
    },
    {
     "data": {
      "image/png": "[encoded data removed]",
      "text/plain": [
       "<Figure size 432x288 with 1 Axes>"
      ]
     },
     "metadata": {
      "needs_background": "light"
     },
     "output_type": "display_data"
    }
   ],
   "source": []
  },
  {
   "cell_type": "code",
   "execution_count": null,
   "metadata": {},
   "outputs": [],
   "source": []
  }
 ],
 "metadata": {
  "kernelspec": {
   "display_name": "Python 3",
   "language": "python",
   "name": "python3"
  },
  "language_info": {
   "codemirror_mode": {
    "name": "ipython",
    "version": 3
   },
   "file_extension": ".py",
   "mimetype": "text/x-python",
   "name": "python",
   "nbconvert_exporter": "python",
   "pygments_lexer": "ipython3",
   "version": "3.7.3"
  }
 },
 "nbformat": 4,
 "nbformat_minor": 2
}
